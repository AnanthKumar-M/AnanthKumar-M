{
 "cells": [
  {
   "cell_type": "markdown",
   "id": "0886ea3e",
   "metadata": {},
   "source": [
    "# Basic Python"
   ]
  },
  {
   "cell_type": "markdown",
   "id": "dd8958e1",
   "metadata": {},
   "source": [
    "## 1.Split this string"
   ]
  },
  {
   "cell_type": "code",
   "execution_count": 1,
   "id": "666a824d",
   "metadata": {},
   "outputs": [
    {
     "name": "stdout",
     "output_type": "stream",
     "text": [
      "['Hi', 'there', 'Sam!']\n"
     ]
    }
   ],
   "source": [
    "s=\"Hi there Sam!\"\n",
    "string=s.split()\n",
    "print(string)"
   ]
  },
  {
   "cell_type": "markdown",
   "id": "16eca6af",
   "metadata": {},
   "source": [
    "## 2.Use .format() to print the following string"
   ]
  },
  {
   "cell_type": "code",
   "execution_count": 2,
   "id": "b6149812",
   "metadata": {},
   "outputs": [
    {
     "name": "stdout",
     "output_type": "stream",
     "text": [
      "The diameter of Earth is 12742\n"
     ]
    }
   ],
   "source": [
    "txt1=\"The diameter of {0} is {1}\".format(\"Earth\",12742)\n",
    "print(txt1)"
   ]
  },
  {
   "cell_type": "markdown",
   "id": "e1daa6ab",
   "metadata": {},
   "source": [
    "## 3.In this nest dictionary grab the word \"hello\""
   ]
  },
  {
   "cell_type": "code",
   "execution_count": 14,
   "id": "ffe8ddad",
   "metadata": {},
   "outputs": [
    {
     "name": "stdout",
     "output_type": "stream",
     "text": [
      "hello\n"
     ]
    }
   ],
   "source": [
    "d={'k1':[1,2,3,{'tricky':['oh','man','inception',{'target':[1,2,3,'hello']}]}]}\n",
    "print(d['k1'][3]['tricky'][3]['target'][3])"
   ]
  },
  {
   "cell_type": "markdown",
   "id": "10d005d8",
   "metadata": {},
   "source": [
    "## 4.1 Create an array of 10 zeros"
   ]
  },
  {
   "cell_type": "code",
   "execution_count": 3,
   "id": "7fe4679a",
   "metadata": {},
   "outputs": [],
   "source": [
    "import numpy as np"
   ]
  },
  {
   "cell_type": "code",
   "execution_count": 4,
   "id": "ef8afb70",
   "metadata": {},
   "outputs": [
    {
     "data": {
      "text/plain": [
       "array([0, 0, 0, 0, 0, 0, 0, 0, 0, 0])"
      ]
     },
     "execution_count": 4,
     "metadata": {},
     "output_type": "execute_result"
    }
   ],
   "source": [
    "a=np.array([0,0,0,0,0,0,0,0,0,0])\n",
    "a"
   ]
  },
  {
   "cell_type": "markdown",
   "id": "cf65dc67",
   "metadata": {},
   "source": [
    "## 4.2 Create an array of 10 fives"
   ]
  },
  {
   "cell_type": "code",
   "execution_count": 5,
   "id": "71632b41",
   "metadata": {},
   "outputs": [
    {
     "data": {
      "text/plain": [
       "array([5, 5, 5, 5, 5, 5, 5, 5, 5, 5])"
      ]
     },
     "execution_count": 5,
     "metadata": {},
     "output_type": "execute_result"
    }
   ],
   "source": [
    "b=np.array([5,5,5,5,5,5,5,5,5,5])\n",
    "b"
   ]
  },
  {
   "cell_type": "markdown",
   "id": "1c1ab235",
   "metadata": {},
   "source": [
    "## 5.Create an array of all the even integers from 20 to 35"
   ]
  },
  {
   "cell_type": "code",
   "execution_count": 6,
   "id": "af34bc14",
   "metadata": {},
   "outputs": [
    {
     "name": "stdout",
     "output_type": "stream",
     "text": [
      "Array of all the even integers from 20 to 35:\n",
      "[20 22 24 26 28 30 32 34]\n"
     ]
    }
   ],
   "source": [
    "array=np.arange(20,36,2)\n",
    "print(\"Array of all the even integers from 20 to 35:\")\n",
    "print(array)"
   ]
  },
  {
   "cell_type": "markdown",
   "id": "5f18c43e",
   "metadata": {},
   "source": [
    "## 6.Create a 3*3 matrix with values ranging from 0 to 8"
   ]
  },
  {
   "cell_type": "code",
   "execution_count": 7,
   "id": "db36f45d",
   "metadata": {},
   "outputs": [
    {
     "name": "stdout",
     "output_type": "stream",
     "text": [
      "[[0 1 2]\n",
      " [3 4 5]\n",
      " [6 7 8]]\n"
     ]
    }
   ],
   "source": [
    "x=np.arange(0,9).reshape(3,3)\n",
    "print(x)"
   ]
  },
  {
   "cell_type": "markdown",
   "id": "c8bb732c",
   "metadata": {},
   "source": [
    "## 7.Concatinate a and b"
   ]
  },
  {
   "cell_type": "code",
   "execution_count": 8,
   "id": "8e6deead",
   "metadata": {},
   "outputs": [
    {
     "name": "stdout",
     "output_type": "stream",
     "text": [
      "[1 2 3 4 5 6]\n"
     ]
    }
   ],
   "source": [
    "a=np.array([1,2,3])\n",
    "b=np.array([4,5,6])\n",
    "c=np.concatenate((a,b))\n",
    "print(c)"
   ]
  },
  {
   "cell_type": "markdown",
   "id": "a5630cf5",
   "metadata": {},
   "source": [
    "## Pandas"
   ]
  },
  {
   "cell_type": "markdown",
   "id": "dcbc1d1e",
   "metadata": {},
   "source": [
    "## 8.Create a dataframe with 3 rows and 2 columns"
   ]
  },
  {
   "cell_type": "code",
   "execution_count": 9,
   "id": "c3927620",
   "metadata": {},
   "outputs": [],
   "source": [
    "import pandas as pd"
   ]
  },
  {
   "cell_type": "code",
   "execution_count": 10,
   "id": "77f8d202",
   "metadata": {},
   "outputs": [
    {
     "data": {
      "text/html": [
       "<div>\n",
       "<style scoped>\n",
       "    .dataframe tbody tr th:only-of-type {\n",
       "        vertical-align: middle;\n",
       "    }\n",
       "\n",
       "    .dataframe tbody tr th {\n",
       "        vertical-align: top;\n",
       "    }\n",
       "\n",
       "    .dataframe thead th {\n",
       "        text-align: right;\n",
       "    }\n",
       "</style>\n",
       "<table border=\"1\" class=\"dataframe\">\n",
       "  <thead>\n",
       "    <tr style=\"text-align: right;\">\n",
       "      <th></th>\n",
       "      <th>0</th>\n",
       "      <th>1</th>\n",
       "    </tr>\n",
       "  </thead>\n",
       "  <tbody>\n",
       "    <tr>\n",
       "      <th>0</th>\n",
       "      <td>NaN</td>\n",
       "      <td>NaN</td>\n",
       "    </tr>\n",
       "    <tr>\n",
       "      <th>1</th>\n",
       "      <td>NaN</td>\n",
       "      <td>NaN</td>\n",
       "    </tr>\n",
       "    <tr>\n",
       "      <th>2</th>\n",
       "      <td>NaN</td>\n",
       "      <td>NaN</td>\n",
       "    </tr>\n",
       "  </tbody>\n",
       "</table>\n",
       "</div>"
      ],
      "text/plain": [
       "     0    1\n",
       "0  NaN  NaN\n",
       "1  NaN  NaN\n",
       "2  NaN  NaN"
      ]
     },
     "execution_count": 10,
     "metadata": {},
     "output_type": "execute_result"
    }
   ],
   "source": [
    "pd.DataFrame(index=np.arange(3),columns=np.arange(2))"
   ]
  },
  {
   "cell_type": "markdown",
   "id": "9f4cdb29",
   "metadata": {},
   "source": [
    "## 9.Generate the series of dates from 1st Jan 2023 to 10th Feb 2023"
   ]
  },
  {
   "cell_type": "code",
   "execution_count": 11,
   "id": "800caeed",
   "metadata": {},
   "outputs": [],
   "source": [
    "import datetime"
   ]
  },
  {
   "cell_type": "code",
   "execution_count": 12,
   "id": "885d3faa",
   "metadata": {},
   "outputs": [
    {
     "data": {
      "text/plain": [
       "[datetime.date(2023, 1, 1),\n",
       " datetime.date(2023, 1, 2),\n",
       " datetime.date(2023, 1, 3),\n",
       " datetime.date(2023, 1, 4),\n",
       " datetime.date(2023, 1, 5),\n",
       " datetime.date(2023, 1, 6),\n",
       " datetime.date(2023, 1, 7),\n",
       " datetime.date(2023, 1, 8),\n",
       " datetime.date(2023, 1, 9),\n",
       " datetime.date(2023, 1, 10),\n",
       " datetime.date(2023, 1, 11),\n",
       " datetime.date(2023, 1, 12),\n",
       " datetime.date(2023, 1, 13),\n",
       " datetime.date(2023, 1, 14),\n",
       " datetime.date(2023, 1, 15),\n",
       " datetime.date(2023, 1, 16),\n",
       " datetime.date(2023, 1, 17),\n",
       " datetime.date(2023, 1, 18),\n",
       " datetime.date(2023, 1, 19),\n",
       " datetime.date(2023, 1, 20),\n",
       " datetime.date(2023, 1, 21),\n",
       " datetime.date(2023, 1, 22),\n",
       " datetime.date(2023, 1, 23),\n",
       " datetime.date(2023, 1, 24),\n",
       " datetime.date(2023, 1, 25),\n",
       " datetime.date(2023, 1, 26),\n",
       " datetime.date(2023, 1, 27),\n",
       " datetime.date(2023, 1, 28),\n",
       " datetime.date(2023, 1, 29),\n",
       " datetime.date(2023, 1, 30),\n",
       " datetime.date(2023, 1, 31),\n",
       " datetime.date(2023, 2, 1),\n",
       " datetime.date(2023, 2, 2),\n",
       " datetime.date(2023, 2, 3),\n",
       " datetime.date(2023, 2, 4),\n",
       " datetime.date(2023, 2, 5),\n",
       " datetime.date(2023, 2, 6),\n",
       " datetime.date(2023, 2, 7),\n",
       " datetime.date(2023, 2, 8),\n",
       " datetime.date(2023, 2, 9),\n",
       " datetime.date(2023, 2, 10)]"
      ]
     },
     "execution_count": 12,
     "metadata": {},
     "output_type": "execute_result"
    }
   ],
   "source": [
    "from datetime import date\n",
    "start_date=date(2023,1,1)\n",
    "end_date=date(2023,2,11)\n",
    "[date.fromordinal(i) for i in range(start_date.toordinal(),end_date.toordinal())]"
   ]
  },
  {
   "cell_type": "markdown",
   "id": "b925a849",
   "metadata": {},
   "source": [
    "## 10.Create 2D list to DataFrame"
   ]
  },
  {
   "cell_type": "code",
   "execution_count": 13,
   "id": "65448938",
   "metadata": {},
   "outputs": [
    {
     "data": {
      "text/html": [
       "<div>\n",
       "<style scoped>\n",
       "    .dataframe tbody tr th:only-of-type {\n",
       "        vertical-align: middle;\n",
       "    }\n",
       "\n",
       "    .dataframe tbody tr th {\n",
       "        vertical-align: top;\n",
       "    }\n",
       "\n",
       "    .dataframe thead th {\n",
       "        text-align: right;\n",
       "    }\n",
       "</style>\n",
       "<table border=\"1\" class=\"dataframe\">\n",
       "  <thead>\n",
       "    <tr style=\"text-align: right;\">\n",
       "      <th></th>\n",
       "      <th>0</th>\n",
       "      <th>1</th>\n",
       "      <th>2</th>\n",
       "    </tr>\n",
       "  </thead>\n",
       "  <tbody>\n",
       "    <tr>\n",
       "      <th>0</th>\n",
       "      <td>1</td>\n",
       "      <td>aaa</td>\n",
       "      <td>22</td>\n",
       "    </tr>\n",
       "    <tr>\n",
       "      <th>1</th>\n",
       "      <td>2</td>\n",
       "      <td>bbb</td>\n",
       "      <td>25</td>\n",
       "    </tr>\n",
       "    <tr>\n",
       "      <th>2</th>\n",
       "      <td>3</td>\n",
       "      <td>ccc</td>\n",
       "      <td>24</td>\n",
       "    </tr>\n",
       "  </tbody>\n",
       "</table>\n",
       "</div>"
      ],
      "text/plain": [
       "   0    1   2\n",
       "0  1  aaa  22\n",
       "1  2  bbb  25\n",
       "2  3  ccc  24"
      ]
     },
     "execution_count": 13,
     "metadata": {},
     "output_type": "execute_result"
    }
   ],
   "source": [
    "pd.DataFrame([[1,'aaa',22],[2,'bbb',25],[3,'ccc',24]])"
   ]
  },
  {
   "cell_type": "code",
   "execution_count": null,
   "id": "00b0a168",
   "metadata": {},
   "outputs": [],
   "source": []
  }
 ],
 "metadata": {
  "kernelspec": {
   "display_name": "Python 3 (ipykernel)",
   "language": "python",
   "name": "python3"
  },
  "language_info": {
   "codemirror_mode": {
    "name": "ipython",
    "version": 3
   },
   "file_extension": ".py",
   "mimetype": "text/x-python",
   "name": "python",
   "nbconvert_exporter": "python",
   "pygments_lexer": "ipython3",
   "version": "3.9.12"
  }
 },
 "nbformat": 4,
 "nbformat_minor": 5
}
